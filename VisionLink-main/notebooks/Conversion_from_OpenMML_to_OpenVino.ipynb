{
  "nbformat": 4,
  "nbformat_minor": 0,
  "metadata": {
    "colab": {
      "provenance": []
    },
    "kernelspec": {
      "name": "python3",
      "display_name": "Python 3"
    },
    "language_info": {
      "name": "python"
    },
    "accelerator": "GPU",
    "gpuClass": "standard"
  },
  "cells": [
    {
      "cell_type": "markdown",
      "source": [
        "Install MMDet"
      ],
      "metadata": {
        "id": "7xA0Aoc49IR0"
      }
    },
    {
      "cell_type": "code",
      "execution_count": 1,
      "metadata": {
        "colab": {
          "base_uri": "https://localhost:8080/"
        },
        "id": "Xy4KdZet76E1",
        "outputId": "de852c41-a6e1-48aa-eed2-f32cad549162"
      },
      "outputs": [
        {
          "output_type": "stream",
          "name": "stdout",
          "text": [
            "\u001b[?25l     \u001b[90m━━━━━━━━━━━━━━━━━━━━━━━━━━━━━━━━━━━━━━━━\u001b[0m \u001b[32m0.0/51.3 kB\u001b[0m \u001b[31m?\u001b[0m eta \u001b[36m-:--:--\u001b[0m\r\u001b[2K     \u001b[91m━━━━━━━━━━━━━━━━━━━━━━━━━━━━━━━━━━━━━━━\u001b[0m\u001b[91m╸\u001b[0m \u001b[32m51.2/51.3 kB\u001b[0m \u001b[31m6.5 MB/s\u001b[0m eta \u001b[36m0:00:01\u001b[0m\r\u001b[2K     \u001b[90m━━━━━━━━━━━━━━━━━━━━━━━━━━━━━━━━━━━━━━━\u001b[0m \u001b[32m51.3/51.3 kB\u001b[0m \u001b[31m895.5 kB/s\u001b[0m eta \u001b[36m0:00:00\u001b[0m\n",
            "\u001b[?25h/usr/local/lib/python3.9/dist-packages/setuptools/command/install.py:34: SetuptoolsDeprecationWarning: setup.py install is deprecated. Use build and pip and other standards-based tools.\n",
            "  warnings.warn(\n",
            "\u001b[2K     \u001b[90m━━━━━━━━━━━━━━━━━━━━━━━━━━━━━━━━━━━━━━━\u001b[0m \u001b[32m366.9/366.9 kB\u001b[0m \u001b[31m7.1 MB/s\u001b[0m eta \u001b[36m0:00:00\u001b[0m\n",
            "\u001b[2K     \u001b[90m━━━━━━━━━━━━━━━━━━━━━━━━━━━━━━━━━━━━━━\u001b[0m \u001b[32m200.9/200.9 kB\u001b[0m \u001b[31m16.1 MB/s\u001b[0m eta \u001b[36m0:00:00\u001b[0m\n",
            "\u001b[?25h/usr/local/lib/python3.9/dist-packages/setuptools/command/install.py:34: SetuptoolsDeprecationWarning: setup.py install is deprecated. Use build and pip and other standards-based tools.\n",
            "  warnings.warn(\n",
            "/usr/local/lib/python3.9/dist-packages/setuptools/command/install.py:34: SetuptoolsDeprecationWarning: setup.py install is deprecated. Use build and pip and other standards-based tools.\n",
            "  warnings.warn(\n",
            "/usr/local/lib/python3.9/dist-packages/setuptools/command/install.py:34: SetuptoolsDeprecationWarning: setup.py install is deprecated. Use build and pip and other standards-based tools.\n",
            "  warnings.warn(\n",
            "/usr/local/lib/python3.9/dist-packages/setuptools/command/install.py:34: SetuptoolsDeprecationWarning: setup.py install is deprecated. Use build and pip and other standards-based tools.\n",
            "  warnings.warn(\n",
            "/usr/local/lib/python3.9/dist-packages/setuptools/command/install.py:34: SetuptoolsDeprecationWarning: setup.py install is deprecated. Use build and pip and other standards-based tools.\n",
            "  warnings.warn(\n",
            "\u001b[2K     \u001b[90m━━━━━━━━━━━━━━━━━━━━━━━━━━━━━━━━━━━━━━━━\u001b[0m \u001b[32m74.4/74.4 MB\u001b[0m \u001b[31m11.9 MB/s\u001b[0m eta \u001b[36m0:00:00\u001b[0m\n",
            "\u001b[?25h/usr/local/lib/python3.9/dist-packages/setuptools/command/install.py:34: SetuptoolsDeprecationWarning: setup.py install is deprecated. Use build and pip and other standards-based tools.\n",
            "  warnings.warn(\n",
            "/usr/local/lib/python3.9/dist-packages/setuptools/command/install.py:34: SetuptoolsDeprecationWarning: setup.py install is deprecated. Use build and pip and other standards-based tools.\n",
            "  warnings.warn(\n"
          ]
        }
      ],
      "source": [
        "!pip3 install openmim --quiet\n",
        "!mim install mmengine --quiet\n",
        "!mim install \"mmcv>=2.0.0rc1,<2.1.0\" --quiet"
      ]
    },
    {
      "cell_type": "code",
      "source": [
        "!git clone https://github.com/open-mmlab/mmdetection.git -b 3.x --quiet\n",
        "%cd mmdetection\n",
        "!pip install -e . --quiet"
      ],
      "metadata": {
        "colab": {
          "base_uri": "https://localhost:8080/"
        },
        "id": "KsJpmtkO9KrT",
        "outputId": "3b1cb81a-55ad-41d6-9a93-121cb3d960d9"
      },
      "execution_count": 2,
      "outputs": [
        {
          "output_type": "stream",
          "name": "stdout",
          "text": [
            "/content/mmdetection\n",
            "  Preparing metadata (setup.py) ... \u001b[?25l\u001b[?25hdone\n"
          ]
        }
      ]
    },
    {
      "cell_type": "code",
      "source": [
        "import mmdet\n",
        "print(mmdet.__version__)\n",
        "# Example output: 3.0.0rc0, or an another version."
      ],
      "metadata": {
        "colab": {
          "base_uri": "https://localhost:8080/"
        },
        "id": "Vfogxfc_9bq5",
        "outputId": "0eb30974-44fc-4ce0-dab8-f5974bc56929"
      },
      "execution_count": null,
      "outputs": [
        {
          "output_type": "stream",
          "name": "stdout",
          "text": [
            "3.0.0\n"
          ]
        }
      ]
    },
    {
      "cell_type": "markdown",
      "source": [
        "### Load Checkpoint File and Config File"
      ],
      "metadata": {
        "id": "B8Xjv_II9rJM"
      }
    },
    {
      "cell_type": "code",
      "source": [
        "from google.colab import drive\n",
        "drive.mount('/content/drive')"
      ],
      "metadata": {
        "colab": {
          "base_uri": "https://localhost:8080/"
        },
        "id": "opV3CKGCxNwt",
        "outputId": "6998cc30-f38d-4df2-9bd0-1aeab88f2425"
      },
      "execution_count": 3,
      "outputs": [
        {
          "output_type": "stream",
          "name": "stdout",
          "text": [
            "Mounted at /content/drive\n"
          ]
        }
      ]
    },
    {
      "cell_type": "code",
      "source": [
        "!cp /content/drive/MyDrive/rtmdet_tiny.py /content/."
      ],
      "metadata": {
        "id": "mXWKCW8dVuTH"
      },
      "execution_count": 4,
      "outputs": []
    },
    {
      "cell_type": "code",
      "source": [
        "!cp /content/drive/MyDrive/rtmdet-ins_tiny_8xb32-300e_coco_20221130_151727-ec670f7e.pth /content/."
      ],
      "metadata": {
        "id": "gWOTxOEni5sl"
      },
      "execution_count": 5,
      "outputs": []
    },
    {
      "cell_type": "code",
      "source": [],
      "metadata": {
        "id": "wyVs0rXWyXZR"
      },
      "execution_count": null,
      "outputs": []
    },
    {
      "cell_type": "markdown",
      "source": [
        "### Modify the Config File\n",
        "\n",
        "1. Set path to base config\n",
        "2. Set number of Classes\n",
        "\n",
        "All this should already be done in the provided config file."
      ],
      "metadata": {
        "id": "AdamSFQCjCV0"
      }
    },
    {
      "cell_type": "code",
      "source": [],
      "metadata": {
        "id": "-e92GTt8phk1"
      },
      "execution_count": null,
      "outputs": []
    },
    {
      "cell_type": "markdown",
      "source": [
        "## Check if the Model works"
      ],
      "metadata": {
        "id": "n62ZBlWCwPvm"
      }
    },
    {
      "cell_type": "code",
      "source": [
        "from mmdet.apis import init_detector, inference_detector\n",
        "import mmcv\n",
        "import numpy as np\n",
        "import time\n",
        "\n",
        "\n",
        "# Specify the path to model config and checkpoint file\n",
        "config_file = '/content/rtmdet_tiny.py'\n",
        "checkpoint_file = '/content/rtmdet-ins_tiny_8xb32-300e_coco_20221130_151727-ec670f7e.pth'\n",
        "\n",
        "# build the model from a config file and a checkpoint file\n",
        "model = init_detector(config_file, checkpoint_file, device='cpu') #cpu"
      ],
      "metadata": {
        "colab": {
          "base_uri": "https://localhost:8080/"
        },
        "id": "gb0f92TLphyP",
        "outputId": "e94d7704-a85c-4290-dfc6-00a8929549cb"
      },
      "execution_count": null,
      "outputs": [
        {
          "output_type": "stream",
          "name": "stdout",
          "text": [
            "Loads checkpoint by local backend from path: /content/rtmdet-ins_tiny_8xb32-300e_coco_20221130_151727-ec670f7e.pth\n"
          ]
        }
      ]
    },
    {
      "cell_type": "markdown",
      "source": [
        "#### Convert to Openvino"
      ],
      "metadata": {
        "id": "2sf_l7RMJ5hf"
      }
    },
    {
      "cell_type": "code",
      "source": [
        "!pip install onnx"
      ],
      "metadata": {
        "colab": {
          "base_uri": "https://localhost:8080/"
        },
        "id": "b8PCqFd_vyl4",
        "outputId": "f0f0b8a1-038e-4112-dfe9-bbdd6cb3b176"
      },
      "execution_count": null,
      "outputs": [
        {
          "output_type": "stream",
          "name": "stdout",
          "text": [
            "Looking in indexes: https://pypi.org/simple, https://us-python.pkg.dev/colab-wheels/public/simple/\n",
            "Collecting onnx\n",
            "  Downloading onnx-1.13.1-cp39-cp39-manylinux_2_17_x86_64.manylinux2014_x86_64.whl (13.5 MB)\n",
            "\u001b[2K     \u001b[90m━━━━━━━━━━━━━━━━━━━━━━━━━━━━━━━━━━━━━━━━\u001b[0m \u001b[32m13.5/13.5 MB\u001b[0m \u001b[31m54.5 MB/s\u001b[0m eta \u001b[36m0:00:00\u001b[0m\n",
            "\u001b[?25hRequirement already satisfied: numpy>=1.16.6 in /usr/local/lib/python3.9/dist-packages (from onnx) (1.22.4)\n",
            "Requirement already satisfied: typing-extensions>=3.6.2.1 in /usr/local/lib/python3.9/dist-packages (from onnx) (4.5.0)\n",
            "Requirement already satisfied: protobuf<4,>=3.20.2 in /usr/local/lib/python3.9/dist-packages (from onnx) (3.20.3)\n",
            "Installing collected packages: onnx\n",
            "Successfully installed onnx-1.13.1\n"
          ]
        }
      ]
    },
    {
      "cell_type": "code",
      "source": [
        "!pip install openvino"
      ],
      "metadata": {
        "colab": {
          "base_uri": "https://localhost:8080/"
        },
        "id": "UZHfn4mPDCDS",
        "outputId": "62c874f4-5e3d-4c99-f57a-fe9a81cc75f9"
      },
      "execution_count": null,
      "outputs": [
        {
          "output_type": "stream",
          "name": "stdout",
          "text": [
            "Looking in indexes: https://pypi.org/simple, https://us-python.pkg.dev/colab-wheels/public/simple/\n",
            "Collecting openvino\n",
            "  Downloading openvino-2022.3.0-9052-cp39-cp39-manylinux_2_17_x86_64.whl (36.4 MB)\n",
            "\u001b[2K     \u001b[90m━━━━━━━━━━━━━━━━━━━━━━━━━━━━━━━━━━━━━━━━\u001b[0m \u001b[32m36.4/36.4 MB\u001b[0m \u001b[31m36.8 MB/s\u001b[0m eta \u001b[36m0:00:00\u001b[0m\n",
            "\u001b[?25hRequirement already satisfied: numpy<=1.23.4,>=1.16.6 in /usr/local/lib/python3.9/dist-packages (from openvino) (1.22.4)\n",
            "Installing collected packages: openvino\n",
            "Successfully installed openvino-2022.3.0\n"
          ]
        }
      ]
    },
    {
      "cell_type": "code",
      "source": [
        "import sys\n",
        "import time\n",
        "import warnings\n",
        "from pathlib import Path\n",
        "\n",
        "import cv2\n",
        "import numpy as np\n",
        "import torch\n",
        "from IPython.display import Markdown, display\n",
        "from torchvision.models.segmentation import lraspp_mobilenet_v3_large, LRASPP_MobileNet_V3_Large_Weights\n",
        "from openvino.runtime import Core\n",
        "\n",
        "sys.path.append(\"../utils\")\n",
        "#from notebook_utils import segmentation_map_to_image, viz_result_image, SegmentationMap, Label, download_file"
      ],
      "metadata": {
        "id": "rsv8HWyrIfGL"
      },
      "execution_count": null,
      "outputs": []
    },
    {
      "cell_type": "code",
      "source": [
        "IMAGE_WIDTH = 640\n",
        "IMAGE_HEIGHT = 640\n",
        "\n",
        "# Paths where ONNX and OpenVINO IR models will be stored.\n",
        "onnx_path = Path('segmentation_onnx.onnx')\n",
        "if not onnx_path.parent.exists():\n",
        "    onnx_path.parent.mkdir()\n",
        "ir_path = onnx_path.with_suffix(\".xml\")"
      ],
      "metadata": {
        "id": "9Q8OeGI3Jrux"
      },
      "execution_count": null,
      "outputs": []
    },
    {
      "cell_type": "code",
      "source": [],
      "metadata": {
        "colab": {
          "base_uri": "https://localhost:8080/"
        },
        "id": "MPGpugPnb2Au",
        "outputId": "c0a36787-a941-4c31-e975-b87049343217"
      },
      "execution_count": null,
      "outputs": [
        {
          "output_type": "stream",
          "name": "stdout",
          "text": [
            "/content\n"
          ]
        }
      ]
    },
    {
      "cell_type": "code",
      "source": [
        "model.to(\"cpu\")"
      ],
      "metadata": {
        "id": "ENn5uMiyE5D-"
      },
      "execution_count": null,
      "outputs": []
    },
    {
      "cell_type": "code",
      "source": [
        "with warnings.catch_warnings():\n",
        "    warnings.filterwarnings(\"ignore\")\n",
        "    if not onnx_path.exists():\n",
        "        dummy_input = torch.randn(1, 3, IMAGE_HEIGHT, IMAGE_WIDTH)\n",
        "        torch.onnx.export(\n",
        "            model,\n",
        "            dummy_input,\n",
        "            onnx_path,\n",
        "        )\n",
        "        print(f\"ONNX model exported to {onnx_path}.\")\n",
        "    else:\n",
        "        print(f\"ONNX model {onnx_path} already exists.\")"
      ],
      "metadata": {
        "id": "kzHWK20vJrxW",
        "colab": {
          "base_uri": "https://localhost:8080/"
        },
        "outputId": "5db1d22c-38f3-46de-f95e-3558fd6bce58"
      },
      "execution_count": null,
      "outputs": [
        {
          "output_type": "stream",
          "name": "stdout",
          "text": [
            "============= Diagnostic Run torch.onnx.export version 2.0.0+cu118 =============\n",
            "verbose: False, log level: Level.ERROR\n",
            "======================= 0 NONE 0 NOTE 0 WARNING 0 ERROR ========================\n",
            "\n",
            "ONNX model exported to segmentation_onnx.onnx.\n"
          ]
        }
      ]
    },
    {
      "cell_type": "markdown",
      "source": [
        "Add extension to replace hardsigmoid"
      ],
      "metadata": {
        "id": "vp_s6m9MBb1r"
      }
    },
    {
      "cell_type": "code",
      "source": [
        "from openvino.runtime import Core\n",
        "from openvino.frontend import ConversionExtension\n",
        "import openvino.runtime.opset8 as ops\n"
      ],
      "metadata": {
        "id": "5bUinkvOBe96"
      },
      "execution_count": null,
      "outputs": []
    },
    {
      "cell_type": "code",
      "source": [
        "ov = Core()\n",
        "from openvino.runtime.opset8 import multiply, add, constant\n",
        "\n",
        "def conversion(node):\n",
        "    alpha = 0.2\n",
        "    beta = 0.5\n",
        "    x = node.get_input(0)\n",
        "    alpha_const = constant(alpha, x.get_element_type(), x.get_shape())\n",
        "    beta_const = constant(beta, x.get_element_type(), x.get_shape())\n",
        "    hard_sigmoid_output = ops.clamp(add(multiply(x, alpha_const), beta_const), 0, 1).outputs()\n",
        "    return hard_sigmoid_output\n"
      ],
      "metadata": {
        "id": "ECkI6vlyBiqm"
      },
      "execution_count": null,
      "outputs": []
    },
    {
      "cell_type": "code",
      "source": [
        "ov.add_extension(ConversionExtension('HardSigmoid', conversion))\n"
      ],
      "metadata": {
        "id": "5wgpDENeBppW"
      },
      "execution_count": null,
      "outputs": []
    },
    {
      "cell_type": "code",
      "source": [
        "converted = ov.read_model(onnx_path)\n",
        "converted"
      ],
      "metadata": {
        "colab": {
          "base_uri": "https://localhost:8080/"
        },
        "id": "pS8AO8-MBsNj",
        "outputId": "e8b4bd3a-de7a-4d08-e7a9-3c6bb0bfbcc0"
      },
      "execution_count": null,
      "outputs": [
        {
          "output_type": "execute_result",
          "data": {
            "text/plain": [
              "<Model: 'torch_jit'\n",
              "inputs[\n",
              "<ConstOutput: names[input.1] shape[1,3,640,640] type: f32>\n",
              "]\n",
              "outputs[\n",
              "<ConstOutput: names[867] shape[1,80,80,80] type: f32>,\n",
              "<ConstOutput: names[897] shape[1,80,40,40] type: f32>,\n",
              "<ConstOutput: names[927] shape[1,80,20,20] type: f32>,\n",
              "<ConstOutput: names[888] shape[1,4,80,80] type: f32>,\n",
              "<ConstOutput: names[918] shape[1,4,40,40] type: f32>,\n",
              "<ConstOutput: names[948] shape[1,4,20,20] type: f32>,\n",
              "<ConstOutput: names[876] shape[1,169,80,80] type: f32>,\n",
              "<ConstOutput: names[906] shape[1,169,40,40] type: f32>,\n",
              "<ConstOutput: names[936] shape[1,169,20,20] type: f32>,\n",
              "<ConstOutput: names[858] shape[1,8,80,80] type: f32>\n",
              "]>"
            ]
          },
          "metadata": {},
          "execution_count": 40
        }
      ]
    },
    {
      "cell_type": "code",
      "source": [
        "from openvino.runtime import serialize\n"
      ],
      "metadata": {
        "id": "Z7nFCwg8oCYx"
      },
      "execution_count": null,
      "outputs": []
    },
    {
      "cell_type": "code",
      "source": [
        "serialize(converted, xml_path=\"segmentation_converted.xml\")\n"
      ],
      "metadata": {
        "id": "0G4Y8x_XoDKx"
      },
      "execution_count": null,
      "outputs": []
    },
    {
      "cell_type": "markdown",
      "source": [
        "https://blobconverter.luxonis.com/\n"
      ],
      "metadata": {
        "id": "vK1-D5SLik2A"
      }
    },
    {
      "cell_type": "code",
      "source": [],
      "metadata": {
        "id": "XuOFPFhHilWV"
      },
      "execution_count": null,
      "outputs": []
    }
  ]
}