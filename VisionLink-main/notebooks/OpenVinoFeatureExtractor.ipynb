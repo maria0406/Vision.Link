{
  "cells": [
    {
      "cell_type": "code",
      "execution_count": null,
      "metadata": {
        "colab": {
          "base_uri": "https://localhost:8080/"
        },
        "id": "YtuzBldZJzZ-",
        "outputId": "486ecb3f-d9fd-44db-eb4b-c11f69554a7e"
      },
      "outputs": [
        {
          "name": "stdout",
          "output_type": "stream",
          "text": [
            "Looking in indexes: https://pypi.org/simple, https://us-python.pkg.dev/colab-wheels/public/simple/\n",
            "Collecting openvino-dev\n",
            "  Downloading openvino_dev-2022.3.0-9052-py3-none-any.whl (5.8 MB)\n",
            "\u001b[2K     \u001b[90m━━━━━━━━━━━━━━━━━━━━━━━━━━━━━━━━━━━━━━━━\u001b[0m \u001b[32m5.8/5.8 MB\u001b[0m \u001b[31m85.7 MB/s\u001b[0m eta \u001b[36m0:00:00\u001b[0m\n",
            "\u001b[?25hRequirement already satisfied: opencv-python>=4.5 in /usr/local/lib/python3.9/dist-packages (from openvino-dev) (4.7.0.72)\n",
            "Collecting networkx<=2.8.8\n",
            "  Downloading networkx-2.8.8-py3-none-any.whl (2.0 MB)\n",
            "\u001b[2K     \u001b[90m━━━━━━━━━━━━━━━━━━━━━━━━━━━━━━━━━━━━━━━━\u001b[0m \u001b[32m2.0/2.0 MB\u001b[0m \u001b[31m87.5 MB/s\u001b[0m eta \u001b[36m0:00:00\u001b[0m\n",
            "\u001b[?25hCollecting pandas~=1.3.5\n",
            "  Downloading pandas-1.3.5-cp39-cp39-manylinux_2_17_x86_64.manylinux2014_x86_64.whl (11.5 MB)\n",
            "\u001b[2K     \u001b[90m━━━━━━━━━━━━━━━━━━━━━━━━━━━━━━━━━━━━━━━\u001b[0m \u001b[32m11.5/11.5 MB\u001b[0m \u001b[31m108.7 MB/s\u001b[0m eta \u001b[36m0:00:00\u001b[0m\n",
            "\u001b[?25hCollecting texttable>=1.6.3\n",
            "  Downloading texttable-1.6.7-py2.py3-none-any.whl (10 kB)\n",
            "Requirement already satisfied: numpy>=1.16.6 in /usr/local/lib/python3.9/dist-packages (from openvino-dev) (1.22.4)\n",
            "Collecting jstyleson>=0.0.2\n",
            "  Downloading jstyleson-0.0.2.tar.gz (2.0 kB)\n",
            "  Preparing metadata (setup.py) ... \u001b[?25l\u001b[?25hdone\n",
            "Requirement already satisfied: requests>=2.25.1 in /usr/local/lib/python3.9/dist-packages (from openvino-dev) (2.27.1)\n",
            "Collecting openvino-telemetry>=2022.1.0\n",
            "  Downloading openvino_telemetry-2022.3.0-py3-none-any.whl (20 kB)\n",
            "Requirement already satisfied: pillow>=8.1.2 in /usr/local/lib/python3.9/dist-packages (from openvino-dev) (8.4.0)\n",
            "Requirement already satisfied: tqdm>=4.54.1 in /usr/local/lib/python3.9/dist-packages (from openvino-dev) (4.65.0)\n",
            "Collecting addict>=2.4.0\n",
            "  Downloading addict-2.4.0-py3-none-any.whl (3.8 kB)\n",
            "Requirement already satisfied: scipy>=1.8 in /usr/local/lib/python3.9/dist-packages (from openvino-dev) (1.10.1)\n",
            "Requirement already satisfied: openvino==2022.3.0 in /usr/local/lib/python3.9/dist-packages (from openvino-dev) (2022.3.0)\n",
            "Requirement already satisfied: defusedxml>=0.7.1 in /usr/local/lib/python3.9/dist-packages (from openvino-dev) (0.7.1)\n",
            "Requirement already satisfied: pyyaml>=5.4.1 in /usr/local/lib/python3.9/dist-packages (from openvino-dev) (6.0)\n",
            "Requirement already satisfied: pytz>=2017.3 in /usr/local/lib/python3.9/dist-packages (from pandas~=1.3.5->openvino-dev) (2022.7.1)\n",
            "Requirement already satisfied: python-dateutil>=2.7.3 in /usr/local/lib/python3.9/dist-packages (from pandas~=1.3.5->openvino-dev) (2.8.2)\n",
            "Requirement already satisfied: urllib3<1.27,>=1.21.1 in /usr/local/lib/python3.9/dist-packages (from requests>=2.25.1->openvino-dev) (1.26.15)\n",
            "Requirement already satisfied: idna<4,>=2.5 in /usr/local/lib/python3.9/dist-packages (from requests>=2.25.1->openvino-dev) (3.4)\n",
            "Requirement already satisfied: certifi>=2017.4.17 in /usr/local/lib/python3.9/dist-packages (from requests>=2.25.1->openvino-dev) (2022.12.7)\n",
            "Requirement already satisfied: charset-normalizer~=2.0.0 in /usr/local/lib/python3.9/dist-packages (from requests>=2.25.1->openvino-dev) (2.0.12)\n",
            "Requirement already satisfied: six>=1.5 in /usr/local/lib/python3.9/dist-packages (from python-dateutil>=2.7.3->pandas~=1.3.5->openvino-dev) (1.16.0)\n",
            "Building wheels for collected packages: jstyleson\n",
            "  Building wheel for jstyleson (setup.py) ... \u001b[?25l\u001b[?25hdone\n",
            "  Created wheel for jstyleson: filename=jstyleson-0.0.2-py3-none-any.whl size=2398 sha256=7e6e5f275f1f5d90b03f296c79932e654a144965cb46746a39e961f2bdb11da1\n",
            "  Stored in directory: /root/.cache/pip/wheels/d4/2a/06/11202ea86be0f51f34e9411d691e25b991d188d93ab4d3e551\n",
            "Successfully built jstyleson\n",
            "Installing collected packages: texttable, jstyleson, addict, networkx, pandas, openvino-telemetry, openvino-dev\n",
            "  Attempting uninstall: networkx\n",
            "    Found existing installation: networkx 3.1\n",
            "    Uninstalling networkx-3.1:\n",
            "      Successfully uninstalled networkx-3.1\n",
            "  Attempting uninstall: pandas\n",
            "    Found existing installation: pandas 1.5.3\n",
            "    Uninstalling pandas-1.5.3:\n",
            "      Successfully uninstalled pandas-1.5.3\n",
            "\u001b[31mERROR: pip's dependency resolver does not currently take into account all the packages that are installed. This behaviour is the source of the following dependency conflicts.\n",
            "google-colab 1.0.0 requires pandas~=1.5.3, but you have pandas 1.3.5 which is incompatible.\u001b[0m\u001b[31m\n",
            "\u001b[0mSuccessfully installed addict-2.4.0 jstyleson-0.0.2 networkx-2.8.8 openvino-dev-2022.3.0 openvino-telemetry-2022.3.0 pandas-1.3.5 texttable-1.6.7\n"
          ]
        }
      ],
      "source": [
        "pip install openvino-dev"
      ]
    },
    {
      "cell_type": "code",
      "execution_count": null,
      "metadata": {
        "id": "t9S2vaReJzg9"
      },
      "outputs": [],
      "source": []
    },
    {
      "cell_type": "code",
      "execution_count": null,
      "metadata": {
        "id": "MGj4Hb4vJzjY"
      },
      "outputs": [],
      "source": []
    },
    {
      "cell_type": "code",
      "execution_count": null,
      "metadata": {
        "id": "mNjIp0seJaze"
      },
      "outputs": [],
      "source": [
        "import abc\n",
        "\n",
        "import numpy as np\n",
        "from PIL import Image\n",
        "\n",
        "\n",
        "class FeatureExtractor(abc.ABC):\n",
        "    @abc.abstractmethod\n",
        "    def extract_features(self, input_image: Image) -> np.ndarray:\n",
        "        pass"
      ]
    },
    {
      "cell_type": "code",
      "execution_count": null,
      "metadata": {
        "id": "our8Wgy6J0y8"
      },
      "outputs": [],
      "source": [
        "import numpy as np\n",
        "import tensorflow as tf\n",
        "from PIL import Image\n",
        "from tensorflow.keras.applications.resnet50 import preprocess_input\n",
        "from tensorflow.keras.models import Model\n",
        "from tensorflow.keras.preprocessing import image\n",
        "\n",
        "\n",
        "class ResNetExtractor(FeatureExtractor):\n",
        "    def __init__(self):\n",
        "        base_model = tf.keras.applications.ResNet50(\n",
        "            include_top=True, weights=\"imagenet\"\n",
        "        )\n",
        "        self.model = Model(\n",
        "            inputs=base_model.input, outputs=base_model.get_layer(\"avg_pool\").output\n",
        "        )\n",
        "\n",
        "    def extract_features(self, input_image: Image) -> np.ndarray:\n",
        "        img = input_image.resize(\n",
        "            (224, 224)\n",
        "        )  # Resnet must take a 224x224 img as an input\n",
        "        img = img.convert(\"RGB\")  # Make sure img is color\n",
        "        x = image.img_to_array(\n",
        "            img\n",
        "        )  # To np.array. Height x Width x Channel. dtype=float32\n",
        "        x = np.expand_dims(\n",
        "            x, axis=0\n",
        "        )  # (H, W, C)->(1, H, W, C), where the first elem is the number of img\n",
        "        x = preprocess_input(x)  # Subtracting avg values for each pixel\n",
        "        feature = self.model.predict(x)[0]\n",
        "        return feature / np.linalg.norm(feature)"
      ]
    },
    {
      "cell_type": "code",
      "execution_count": null,
      "metadata": {
        "colab": {
          "base_uri": "https://localhost:8080/"
        },
        "id": "xhgDwMoKJ5S7",
        "outputId": "7bc826c6-9319-49b5-f596-98a3d51bd1c3"
      },
      "outputs": [
        {
          "name": "stdout",
          "output_type": "stream",
          "text": [
            "Downloading data from https://storage.googleapis.com/tensorflow/keras-applications/resnet/resnet50_weights_tf_dim_ordering_tf_kernels.h5\n",
            "102967424/102967424 [==============================] - 0s 0us/step\n"
          ]
        }
      ],
      "source": [
        "base_model = tf.keras.applications.ResNet50(\n",
        "            include_top=True, weights=\"imagenet\"\n",
        "        )"
      ]
    },
    {
      "cell_type": "code",
      "execution_count": null,
      "metadata": {
        "id": "-TYFP48gKg2m"
      },
      "outputs": [],
      "source": [
        "model_path = 'resnet50'\n",
        "model_path_name ='resnet50featuresss'"
      ]
    },
    {
      "cell_type": "code",
      "execution_count": null,
      "metadata": {
        "colab": {
          "base_uri": "https://localhost:8080/"
        },
        "id": "oQ5Ij3CyKb_M",
        "outputId": "71eebf6f-abb5-4740-cf0a-520dcb932382"
      },
      "outputs": [
        {
          "name": "stderr",
          "output_type": "stream",
          "text": [
            "WARNING:tensorflow:Compiled the loaded model, but the compiled metrics have yet to be built. `model.compile_metrics` will be empty until you train or evaluate the model.\n",
            "WARNING:absl:Found untraced functions such as _jit_compiled_convolution_op, _jit_compiled_convolution_op, _jit_compiled_convolution_op, _jit_compiled_convolution_op, _jit_compiled_convolution_op while saving (showing 5 of 53). These functions will not be directly callable after loading.\n"
          ]
        }
      ],
      "source": [
        "base_model.save(model_path)"
      ]
    },
    {
      "cell_type": "code",
      "execution_count": null,
      "metadata": {
        "colab": {
          "base_uri": "https://localhost:8080/"
        },
        "id": "CrDsHyLaPCcD",
        "outputId": "36ca913b-b7d5-43d1-8276-6505db5e6bdb"
      },
      "outputs": [
        {
          "output_type": "execute_result",
          "data": {
            "text/plain": [
              "<keras.layers.pooling.global_average_pooling2d.GlobalAveragePooling2D at 0x7fabf71b41c0>"
            ]
          },
          "metadata": {},
          "execution_count": 39
        }
      ],
      "source": [
        "base_model.get_layer(\"avg_pool\")"
      ]
    },
    {
      "cell_type": "code",
      "execution_count": null,
      "metadata": {
        "id": "SOzjiQm3Kf_F"
      },
      "outputs": [],
      "source": [
        "import time\n",
        "from pathlib import Path\n",
        "\n",
        "import cv2\n",
        "import matplotlib.pyplot as plt\n",
        "import numpy as np\n",
        "import tensorflow as tf\n",
        "from IPython.display import Markdown\n",
        "from openvino.runtime import Core"
      ]
    },
    {
      "cell_type": "code",
      "execution_count": null,
      "metadata": {
        "colab": {
          "base_uri": "https://localhost:8080/",
          "height": 83
        },
        "id": "VAOE9uKdLE8c",
        "outputId": "bc66e4a4-214f-45c6-ed77-5e5b71b8955e"
      },
      "outputs": [
        {
          "output_type": "stream",
          "name": "stdout",
          "text": [
            "Model Optimizer command to convert TensorFlow to OpenVINO:\n"
          ]
        },
        {
          "output_type": "display_data",
          "data": {
            "text/plain": [
              "<IPython.core.display.Markdown object>"
            ],
            "text/markdown": "`mo --saved_model_dir \"resnet50\" --input_shape \"[1,224,224,3]\" --model_name \"resnet50featuresss\" --compress_to_fp16 --output 'StatefulPartitionedCall/resnet50/avg_pool/Mean'`"
          },
          "metadata": {}
        }
      ],
      "source": [
        "# Construct the command for Model Optimizer.\n",
        "mo_command = f\"\"\"mo\n",
        "                 --saved_model_dir \"{model_path}\"\n",
        "                 --input_shape \"[1,224,224,3]\"\n",
        "                 --model_name \"{model_path_name}\"\n",
        "                 --compress_to_fp16\n",
        "                 --output 'StatefulPartitionedCall/resnet50/avg_pool/Mean'\n",
        "                 \"\"\"\n",
        "mo_command = \" \".join(mo_command.split())\n",
        "print(\"Model Optimizer command to convert TensorFlow to OpenVINO:\")\n",
        "display(Markdown(f\"`{mo_command}`\"))"
      ]
    },
    {
      "cell_type": "code",
      "execution_count": null,
      "metadata": {
        "id": "JsAJ8-SNMP8x"
      },
      "outputs": [],
      "source": [
        "ir_path = Path(\"resnet50features_openvino.xml\")"
      ]
    },
    {
      "cell_type": "code",
      "execution_count": null,
      "metadata": {
        "colab": {
          "base_uri": "https://localhost:8080/"
        },
        "id": "4EoHispML6Pi",
        "outputId": "9ba05171-e391-4220-c078-0b2aab901ed4"
      },
      "outputs": [
        {
          "output_type": "stream",
          "name": "stdout",
          "text": [
            "Exporting TensorFlow model to IR... This may take a few minutes.\n",
            "[ INFO ] The model was converted to IR v11, the latest model format that corresponds to the source DL framework input/output format. While IR v11 is backwards compatible with OpenVINO Inference Engine API v1.0, please use API v2.0 (as of 2022.1) to take advantage of the latest improvements in IR v11.\n",
            "Find more information about API v2.0 and IR v11 at https://docs.openvino.ai/latest/openvino_2_0_transition_guide.html\n",
            "[ SUCCESS ] Generated IR version 11 model.\n",
            "[ SUCCESS ] XML file: /content/resnet50featuresss.xml\n",
            "[ SUCCESS ] BIN file: /content/resnet50featuresss.bin\n"
          ]
        }
      ],
      "source": [
        "# Run Model Optimizer if the IR model file does not exist\n",
        "if not ir_path.exists():\n",
        "    print(\"Exporting TensorFlow model to IR... This may take a few minutes.\")\n",
        "    ! $mo_command\n",
        "else:\n",
        "    print(f\"IR model {ir_path} already exists.\")"
      ]
    },
    {
      "cell_type": "code",
      "execution_count": null,
      "metadata": {
        "colab": {
          "base_uri": "https://localhost:8080/"
        },
        "id": "eKzF8I2kMDHV",
        "outputId": "f378d846-e0fc-430b-cb84-0f5abf44b949"
      },
      "outputs": [
        {
          "name": "stdout",
          "output_type": "stream",
          "text": [
            "/bin/bash: mo: command not found\n"
          ]
        }
      ],
      "source": []
    },
    {
      "cell_type": "code",
      "execution_count": null,
      "metadata": {
        "id": "xTEF_PO5M_i4"
      },
      "outputs": [],
      "source": []
    },
    {
      "cell_type": "code",
      "source": [
        "ie = Core()\n",
        "model = ie.read_model('resnet50featuresss.xml')\n",
        "compiled_model = ie.compile_model(model=model, device_name=\"CPU\")"
      ],
      "metadata": {
        "id": "FOGrLoTBR5aL"
      },
      "execution_count": null,
      "outputs": []
    },
    {
      "cell_type": "code",
      "source": [
        "input_key = compiled_model.input(0)\n",
        "output_key = compiled_model.output(0)\n",
        "network_input_shape = input_key.shape "
      ],
      "metadata": {
        "id": "pXhMfNseTI4j"
      },
      "execution_count": null,
      "outputs": []
    },
    {
      "cell_type": "code",
      "source": [
        "# The MobileNet network expects images in RGB format.\n",
        "image = cv2.cvtColor(cv2.imread(filename=\"/content/test.jpeg\"), code=cv2.COLOR_BGR2RGB)\n",
        "\n",
        "# Resize the image to the network input shape.\n",
        "resized_image = cv2.resize(src=image, dsize=(224, 224))\n",
        "\n",
        "# Transpose the image to the network input shape.\n",
        "input_image = np.expand_dims(resized_image, 0)\n",
        "\n",
        "plt.imshow(image);"
      ],
      "metadata": {
        "id": "HmmEG1MsTVdk"
      },
      "execution_count": null,
      "outputs": []
    },
    {
      "cell_type": "code",
      "source": [
        "result = compiled_model(input_image)[output_key]"
      ],
      "metadata": {
        "id": "a50pXWaPTlwn"
      },
      "execution_count": null,
      "outputs": []
    },
    {
      "cell_type": "code",
      "source": [
        "result"
      ],
      "metadata": {
        "colab": {
          "base_uri": "https://localhost:8080/"
        },
        "id": "F_0SaubDTp7M",
        "outputId": "d160cf6f-efb3-4528-c0fa-b8f75353dcb3"
      },
      "execution_count": null,
      "outputs": [
        {
          "output_type": "execute_result",
          "data": {
            "text/plain": [
              "array([[0.2416449 , 0.86873645, 0.2758638 , ..., 0.        , 0.        ,\n",
              "        2.319537  ]], dtype=float32)"
            ]
          },
          "metadata": {},
          "execution_count": 59
        }
      ]
    },
    {
      "cell_type": "code",
      "source": [
        "np.shape(result)"
      ],
      "metadata": {
        "id": "ntQrWXMWTrdd",
        "outputId": "217bc17e-aec4-47ae-b5da-0520788956ad",
        "colab": {
          "base_uri": "https://localhost:8080/"
        }
      },
      "execution_count": null,
      "outputs": [
        {
          "output_type": "execute_result",
          "data": {
            "text/plain": [
              "(1, 2048)"
            ]
          },
          "metadata": {},
          "execution_count": 61
        }
      ]
    },
    {
      "cell_type": "code",
      "source": [],
      "metadata": {
        "id": "UFHpbP40Tt4H"
      },
      "execution_count": null,
      "outputs": []
    }
  ],
  "metadata": {
    "colab": {
      "provenance": []
    },
    "kernelspec": {
      "display_name": "Python 3",
      "name": "python3"
    },
    "language_info": {
      "name": "python"
    }
  },
  "nbformat": 4,
  "nbformat_minor": 0
}